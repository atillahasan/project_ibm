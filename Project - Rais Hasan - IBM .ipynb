{
  "metadata": {
    "kernelspec": {
      "name": "python",
      "display_name": "Python (Pyodide)",
      "language": "python"
    },
    "language_info": {
      "codemirror_mode": {
        "name": "python",
        "version": 3
      },
      "file_extension": ".py",
      "mimetype": "text/x-python",
      "name": "python",
      "nbconvert_exporter": "python",
      "pygments_lexer": "ipython3",
      "version": "3.8"
    }
  },
  "nbformat_minor": 4,
  "nbformat": 4,
  "cells": [
    {
      "cell_type": "markdown",
      "source": "# Data Science Final Project",
      "metadata": {}
    },
    {
      "cell_type": "code",
      "source": "",
      "metadata": {
        "trusted": true
      },
      "outputs": [],
      "execution_count": null
    },
    {
      "cell_type": "markdown",
      "source": "## \nIntroduction This notebook demonstrates the application of Data Science concepts using Jupiterlite Notebook.\nIt includes a mix of Markdown cells for documentation and Python code cells for computations.",
      "metadata": {
        "jp-MarkdownHeadingCollapsed": true
      }
    },
    {
      "cell_type": "markdown",
      "source": "## Data Science Languages\nThe most commonly used languages in Data Science are:\n1. Python\n2. R\n3. SQL\n4. Julia\n5. Scala",
      "metadata": {}
    },
    {
      "cell_type": "code",
      "source": "",
      "metadata": {
        "trusted": true
      },
      "outputs": [],
      "execution_count": null
    },
    {
      "cell_type": "markdown",
      "source": "## Data Science Libraries\nSome popular libraries for Data Science include:\n- **Python Libraries**:\n- NumPy\n- Pandas\n- Matplotlib\n- Scikit-learn\n- TensorFlow\n- PyTorch\n- **R Libraries**:\n- ggplot2\n- dplyr\n- tidyr\n",
      "metadata": {}
    },
    {
      "cell_type": "code",
      "source": "",
      "metadata": {
        "trusted": true
      },
      "outputs": [],
      "execution_count": null
    },
    {
      "cell_type": "markdown",
      "source": "## Data Science Tools\n| Tool | Description |\n|------|-------------|\n| Jupiter Notebook | Interactive coding environment|\n|RStudio | IDE for R programming |\n|TensorFlow | Machine learning framework |\n| Tableau | Data visualization tool |\n| Apache Spark | Big Data processing engine |",
      "metadata": {}
    },
    {
      "cell_type": "markdown",
      "source": "## Arithmetic Examples\nHere are some basic arithmetic examples:\n- Addition : \\(3 + 5 = 8\\)\n- Multiplication : \\(4 \\times 6 = 24 \\)",
      "metadata": {}
    },
    {
      "cell_type": "code",
      "source": "result = (5 * 6) + 3\nresult ",
      "metadata": {
        "trusted": true
      },
      "outputs": [
        {
          "execution_count": 3,
          "output_type": "execute_result",
          "data": {
            "text/plain": "33"
          },
          "metadata": {}
        }
      ],
      "execution_count": 3
    },
    {
      "cell_type": "code",
      "source": "minutes = 200\nhours = minutes / 60\nhours",
      "metadata": {
        "trusted": true
      },
      "outputs": [
        {
          "execution_count": 4,
          "output_type": "execute_result",
          "data": {
            "text/plain": "3.3333333333333335"
          },
          "metadata": {}
        }
      ],
      "execution_count": 4
    },
    {
      "cell_type": "markdown",
      "source": "## Goals\n1. Learn how to create and format cells in Jupiterlite\n2. Practice Markdown syntax for documentation\n3. Exercute Python code in a Juputerlite environment",
      "metadata": {}
    },
    {
      "cell_type": "markdown",
      "source": "## Author \nRAIS HASAN\n",
      "metadata": {}
    },
    {
      "cell_type": "code",
      "source": "",
      "metadata": {
        "trusted": true
      },
      "outputs": [],
      "execution_count": null
    }
  ]
}